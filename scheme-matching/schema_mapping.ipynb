{
 "cells": [
  {
   "cell_type": "code",
   "execution_count": 2,
   "metadata": {},
   "outputs": [],
   "source": [
    "import valentine\n",
    "from valentine import valentine_match, valentine_metrics, NotAValentineMatcher\n",
    "from valentine.algorithms import Coma, Cupid, DistributionBased, JaccardLevenMatcher, SimilarityFlooding\n",
    "import pandas as pd\n",
    "import os\n",
    "import json\n",
    "import nltk\n",
    "import pprint\n",
    "from valentine.data_sources import DataframeTable"
   ]
  },
  {
   "cell_type": "code",
   "execution_count": 8,
   "metadata": {},
   "outputs": [],
   "source": [
    "\n",
    "path = \"/Users/vuong/data-integration/res/data_after_preprocess/\"\n",
    "out_path = \"data_valentine\"\n",
    "\n",
    "d1_path = os.path.join(path, \"cellphones.csv\")\n",
    "d2_path = os.path.join(path, \"hhm.csv\")\n",
    "\n",
    "\n",
    "df1 = pd.read_csv(d1_path, sep = \";\")\n",
    "df2 = pd.read_csv(d2_path, sep = \";\")\n",
    "\n",
    "d1 = DataframeTable(df1, \"cellphones\")\n",
    "d2 = DataframeTable(df2, \"sendo\")"
   ]
  },
  {
   "cell_type": "code",
   "execution_count": 22,
   "metadata": {},
   "outputs": [
    {
     "name": "stdout",
     "output_type": "stream",
     "text": [
      "(('table_1', 'name'), ('table_2', 'name')):  1.0:\n",
      "(('table_1', 'price'), ('table_2', 'price')):  1.0:\n",
      "(('table_1', 'url'), ('table_2', 'url')):  1.0:\n",
      "(('table_1', 'source'), ('table_2', 'source')):  1.0:\n",
      "(('table_1', 'display_size'), ('table_2', 'display_size')):  1.0:\n",
      "(('table_1', 'display_tech'), ('table_2', 'display_tech')):  1.0:\n",
      "(('table_1', 'camera'), ('table_2', 'camera')):  1.0:\n",
      "(('table_1', 'front_camera'), ('table_2', 'front_camera')):  1.0:\n",
      "(('table_1', 'ram'), ('table_2', 'ram')):  1.0:\n",
      "(('table_1', 'rom'), ('table_2', 'rom')):  1.0:\n",
      "(('table_1', 'batery'), ('table_2', 'batery')):  1.0:\n",
      "(('table_1', 'sim'), ('table_2', 'sim')):  1.0:\n",
      "(('table_1', 'os'), ('table_2', 'os')):  1.0:\n",
      "(('table_1', 'resolution'), ('table_2', 'resolution')):  1.0:\n",
      "(('table_1', 'display_feature'), ('table_2', 'display_feature')):  1.0:\n",
      "(('table_1', 'cpu_type'), ('table_2', 'cpu_type')):  1.0:\n",
      "(('table_1', 'weight'), ('table_2', 'weight')):  1.0:\n",
      "(('table_1', 'hz'), ('table_2', 'hz')):  1.0:\n",
      "(('table_1', 'chip_set'), ('table_2', 'chip_set')):  1.0:\n",
      "(('table_1', 'blue_tooth'), ('table_2', 'blue_tooth')):  1.0:\n",
      "(('table_1', 'os'), ('table_2', 'blue_tooth')):  0.8957393483709273:\n",
      "(('table_1', 'blue_tooth'), ('table_2', 'os')):  0.8957393483709273:\n",
      "(('table_1', 'camera'), ('table_2', 'front_camera')):  0.8901960784313727:\n",
      "(('table_1', 'front_camera'), ('table_2', 'camera')):  0.8901960784313727:\n",
      "(('table_1', 'source'), ('table_2', 'resolution')):  0.8857142857142857:\n",
      "(('table_1', 'resolution'), ('table_2', 'source')):  0.8857142857142857:\n",
      "{(('table_1', 'name'), ('table_2', 'name')): 1.0, (('table_1', 'price'), ('table_2', 'price')): 1.0, (('table_1', 'url'), ('table_2', 'url')): 1.0, (('table_1', 'source'), ('table_2', 'source')): 1.0, (('table_1', 'display_size'), ('table_2', 'display_size')): 1.0, (('table_1', 'display_tech'), ('table_2', 'display_tech')): 1.0, (('table_1', 'camera'), ('table_2', 'camera')): 1.0, (('table_1', 'front_camera'), ('table_2', 'front_camera')): 1.0, (('table_1', 'ram'), ('table_2', 'ram')): 1.0, (('table_1', 'rom'), ('table_2', 'rom')): 1.0, (('table_1', 'batery'), ('table_2', 'batery')): 1.0, (('table_1', 'sim'), ('table_2', 'sim')): 1.0, (('table_1', 'os'), ('table_2', 'os')): 1.0, (('table_1', 'resolution'), ('table_2', 'resolution')): 1.0, (('table_1', 'display_feature'), ('table_2', 'display_feature')): 1.0, (('table_1', 'cpu_type'), ('table_2', 'cpu_type')): 1.0, (('table_1', 'weight'), ('table_2', 'weight')): 1.0, (('table_1', 'hz'), ('table_2', 'hz')): 1.0, (('table_1', 'chip_set'), ('table_2', 'chip_set')): 1.0, (('table_1', 'blue_tooth'), ('table_2', 'blue_tooth')): 1.0, (('table_1', 'os'), ('table_2', 'blue_tooth')): 0.8957393483709273, (('table_1', 'blue_tooth'), ('table_2', 'os')): 0.8957393483709273, (('table_1', 'camera'), ('table_2', 'front_camera')): 0.8901960784313727, (('table_1', 'front_camera'), ('table_2', 'camera')): 0.8901960784313727, (('table_1', 'source'), ('table_2', 'resolution')): 0.8857142857142857, (('table_1', 'resolution'), ('table_2', 'source')): 0.8857142857142857}\n"
     ]
    }
   ],
   "source": [
    "# matcher = Coma(strategy=\"COMA_OPT_INST\")\n",
    "# matcher =     (strategy=\"COMA_OPT\")\n",
    "matcher = Cupid(th_accept=0.85)\n",
    "\n",
    "# matcher = DistributionBased()\n",
    "# matcher = JaccardLevenMatcher()\n",
    "# matcher = SimilarityFlooding()\n",
    "\n",
    "matches = valentine_match(df1, df2, matcher)\n",
    "for key in matches:\n",
    "    print(f'{key}:  {matches[key]}:')\n",
    "\n",
    "print(matches)"
   ]
  },
  {
   "cell_type": "code",
   "execution_count": 17,
   "metadata": {},
   "outputs": [
    {
     "name": "stdout",
     "output_type": "stream",
     "text": [
      "Found the following matches:\n",
      "{}\n"
     ]
    }
   ],
   "source": [
    "pp = pprint.PrettyPrinter(indent=4)\n",
    "print(\"Found the following matches:\")\n",
    "pp.pprint(matches)\n"
   ]
  },
  {
   "cell_type": "code",
   "execution_count": null,
   "metadata": {},
   "outputs": [],
   "source": [
    "target_schema = []"
   ]
  },
  {
   "attachments": {},
   "cell_type": "markdown",
   "metadata": {},
   "source": [
    "# Put data to target schema"
   ]
  },
  {
   "cell_type": "code",
   "execution_count": 11,
   "metadata": {},
   "outputs": [],
   "source": []
  },
  {
   "cell_type": "code",
   "execution_count": null,
   "metadata": {},
   "outputs": [],
   "source": []
  }
 ],
 "metadata": {
  "kernelspec": {
   "display_name": ".venv",
   "language": "python",
   "name": "python3"
  },
  "language_info": {
   "codemirror_mode": {
    "name": "ipython",
    "version": 3
   },
   "file_extension": ".py",
   "mimetype": "text/x-python",
   "name": "python",
   "nbconvert_exporter": "python",
   "pygments_lexer": "ipython3",
   "version": "3.9.6"
  },
  "orig_nbformat": 4
 },
 "nbformat": 4,
 "nbformat_minor": 2
}
